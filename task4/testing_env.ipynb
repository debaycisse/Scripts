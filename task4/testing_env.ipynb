{
 "cells": [
  {
   "cell_type": "code",
   "execution_count": 1,
   "metadata": {},
   "outputs": [],
   "source": [
    "user_command = 1\n",
    "staff_credentials = open(\"staff.txt\", \"r\").readlines()\n",
    "first_user = staff_credentials[0].split(\",\")[0]\n",
    "first_user_password = staff_credentials[0].split(\",\")[1]\n",
    "second_user = staff_credentials[1].split(\",\")[0]\n",
    "second_user_password = staff_credentials[1].split(\",\")[1]\n"
   ]
  },
  {
   "cell_type": "code",
   "execution_count": 4,
   "metadata": {},
   "outputs": [
    {
     "name": "stdout",
     "output_type": "stream",
     "text": [
      "Type in your username: adsd\n",
      "Type in your password: adf\n"
     ]
    }
   ],
   "source": [
    "# Staff Login\n",
    "\n",
    "if user_command == 1:\n",
    "    username = input(\"Type in your username: \")\n",
    "    password = input(\"Type in your password: \")"
   ]
  },
  {
   "cell_type": "code",
   "execution_count": 5,
   "metadata": {},
   "outputs": [
    {
     "name": "stdout",
     "output_type": "stream",
     "text": [
      "Your username or password is incorrect\n",
      "Type in your username: user2\n",
      "Type in your password: simple2\n"
     ]
    }
   ],
   "source": [
    "# keep prompting for the username and password, until user enters a correct credential\n",
    "# check in side staff.txt for the staff login credential\n",
    "while (username != first_user and password != first_user_password)\\\n",
    "and (username != second_user and password != second_user_password):\n",
    "    print(\"Your username or password is incorrect\")\n",
    "    username = input(\"Type in your username: \")\n",
    "    password = input(\"Type in your password: \")"
   ]
  },
  {
   "cell_type": "code",
   "execution_count": 22,
   "metadata": {},
   "outputs": [
    {
     "name": "stdout",
     "output_type": "stream",
     "text": [
      "user1 simple1\n"
     ]
    }
   ],
   "source": [
    "print(username, password)"
   ]
  },
  {
   "cell_type": "code",
   "execution_count": 23,
   "metadata": {},
   "outputs": [
    {
     "name": "stdout",
     "output_type": "stream",
     "text": [
      "user1  simple1\n"
     ]
    }
   ],
   "source": [
    "print(first_user, first_user_password)"
   ]
  },
  {
   "cell_type": "code",
   "execution_count": 25,
   "metadata": {},
   "outputs": [
    {
     "data": {
      "text/plain": [
       "True"
      ]
     },
     "execution_count": 25,
     "metadata": {},
     "output_type": "execute_result"
    }
   ],
   "source": [
    "username == first_user #and password != first_user_password"
   ]
  },
  {
   "cell_type": "code",
   "execution_count": 18,
   "metadata": {},
   "outputs": [
    {
     "data": {
      "text/plain": [
       "True"
      ]
     },
     "execution_count": 18,
     "metadata": {},
     "output_type": "execute_result"
    }
   ],
   "source": [
    "username != second_user and password != second_user_password"
   ]
  },
  {
   "cell_type": "code",
   "execution_count": 12,
   "metadata": {},
   "outputs": [
    {
     "data": {
      "text/plain": [
       "False"
      ]
     },
     "execution_count": 12,
     "metadata": {},
     "output_type": "execute_result"
    }
   ],
   "source": [
    "False and True"
   ]
  },
  {
   "cell_type": "code",
   "execution_count": 2,
   "metadata": {},
   "outputs": [],
   "source": [
    "import random\n",
    "import string"
   ]
  },
  {
   "cell_type": "code",
   "execution_count": 3,
   "metadata": {},
   "outputs": [
    {
     "name": "stdout",
     "output_type": "stream",
     "text": [
      "Account Name: Adebayo Azeez\n",
      "Opening Balance: 100,000\n",
      "Account Type: Savings\n",
      "Account Email: debaycisse@gmail.com\n"
     ]
    }
   ],
   "source": [
    "account_name = input(\"Account Name: \")\n",
    "opening_bal = input(\"Opening Balance: \")\n",
    "account_type = input(\"Account Type: \")\n",
    "account_email = input(\"Account Email: \")\n",
    "account_number = \"\"\n",
    "for allnum in random.choices(string.digits, k=10):\n",
    "    account_number += \"\".join(allnum)"
   ]
  },
  {
   "cell_type": "code",
   "execution_count": 6,
   "metadata": {},
   "outputs": [],
   "source": [
    "# Save the customer bank account info into the datastore file\n",
    "with open(\"customer.txt\", \"a\") as customer_data:\n",
    "    save_customer_data = customer_data.write(\"Account Number: \" + account_number + \"\\n\" +\\\n",
    "                                             \"Account Name: \" + account_name + \"\\n\" +\\\n",
    "                                             \"Account Balance: NGN \" + opening_bal + \"\\n\" +\\\n",
    "                                             \"Account Type: \" + account_type + \"\\n\" +\\\n",
    "                                             \"Account Owner Email: \" + account_email + \"\\n\\n\\n\" )\n",
    "    "
   ]
  },
  {
   "cell_type": "code",
   "execution_count": null,
   "metadata": {},
   "outputs": [],
   "source": []
  },
  {
   "cell_type": "code",
   "execution_count": null,
   "metadata": {},
   "outputs": [],
   "source": []
  },
  {
   "cell_type": "code",
   "execution_count": 11,
   "metadata": {},
   "outputs": [],
   "source": [
    "account_number = \"7183631441\"\n",
    "\n",
    "customer_data = open(\"customer.txt\", \"r\")\n",
    "customer_data = customer_data.read()\n",
    "\n",
    "if account_number in customer_data:\n",
    "    account_index = customer_data.find(\"Account Number: \" + account_number)\n",
    "    end_of_a_customer_data = customer_data.find(\"\\n\\n\",account_index)\n",
    "    searched_customer_data = customer_data[account_index:end_of_a_customer_data]\n"
   ]
  },
  {
   "cell_type": "code",
   "execution_count": 14,
   "metadata": {},
   "outputs": [
    {
     "name": "stdout",
     "output_type": "stream",
     "text": [
      "Account Number: 7183631441\n",
      "Account Name: Adebayo Azeez\n",
      "Account Balance: NGN 100,000\n",
      "Account Type: Savings\n",
      "Account Owner Email: debaycisse@gmail.com\n"
     ]
    }
   ],
   "source": [
    "with open(\"customer.txt\", \"r\") as customers_data_house:\n",
    "    customers_data_house = customers_data_house.read()\n",
    "    searched_account_index_start = customers_data_house.find(\"Account Number: \" + account_number)\n",
    "    searched_account_index_end = customers_data_house.find(\"\\n\\n\", searched_account_index_start)\n",
    "    searched_account_detail = customers_data_house[searched_account_index_start:searched_account_index_end]\n",
    "    print(searched_account_detail)"
   ]
  },
  {
   "cell_type": "code",
   "execution_count": null,
   "metadata": {},
   "outputs": [],
   "source": []
  },
  {
   "cell_type": "code",
   "execution_count": 12,
   "metadata": {},
   "outputs": [
    {
     "name": "stdout",
     "output_type": "stream",
     "text": [
      "Account Number: 7183631441\n",
      "Account Name: Adebayo Azeez\n",
      "Account Balance: NGN 100,000\n",
      "Account Type: Savings\n",
      "Account Owner Email: debaycisse@gmail.com\n"
     ]
    }
   ],
   "source": [
    "print(searched_customer_data)"
   ]
  },
  {
   "cell_type": "code",
   "execution_count": null,
   "metadata": {},
   "outputs": [],
   "source": []
  },
  {
   "cell_type": "code",
   "execution_count": 18,
   "metadata": {},
   "outputs": [
    {
     "name": "stdout",
     "output_type": "stream",
     "text": [
      "Account Number: 6638325603\n",
      "Account Name: Adebayo Azeez\n",
      "Account Balance: 65,000,000\n",
      "Account Type: savings\n",
      "Account Owner Email: debaycisse@gmail.com\n",
      "\n",
      "\n",
      "Account Number: 6638325634\n",
      "Account Name: Adebayo Azeez\n",
      "Account Balance: 65,000,000\n",
      "Account Type: savings\n",
      "Account Owner Email: debaycisse@gmail.com\n",
      "\n",
      "\n",
      "Account Number: 6638325678\n",
      "Account Name: Adebayo Azeez\n",
      "Account Balance: 65,000,000\n",
      "Account Type: savings\n",
      "Account Owner Email: debaycisse@gmail.com\n",
      "\n",
      "\n",
      "Account Number: 6638325687\n",
      "Account Name: Adebayo Azeez\n",
      "Account Balance: 65,000,000\n",
      "Account Type: savings\n",
      "Account Owner Email: debaycisse@gmail.com\n",
      "\n",
      "\n",
      "\n"
     ]
    },
    {
     "data": {
      "text/plain": [
       "298"
      ]
     },
     "execution_count": 18,
     "metadata": {},
     "output_type": "execute_result"
    }
   ],
   "source": [
    "print(customer_data)\n",
    "\n",
    "customer_data.find(\"Account Number: \" + account_number)"
   ]
  },
  {
   "cell_type": "code",
   "execution_count": null,
   "metadata": {},
   "outputs": [],
   "source": []
  },
  {
   "cell_type": "code",
   "execution_count": 8,
   "metadata": {},
   "outputs": [
    {
     "data": {
      "text/plain": [
       "True"
      ]
     },
     "execution_count": 8,
     "metadata": {},
     "output_type": "execute_result"
    }
   ],
   "source": [
    "account_number in customer_data"
   ]
  },
  {
   "cell_type": "code",
   "execution_count": null,
   "metadata": {},
   "outputs": [],
   "source": []
  },
  {
   "cell_type": "code",
   "execution_count": null,
   "metadata": {},
   "outputs": [],
   "source": []
  },
  {
   "cell_type": "code",
   "execution_count": null,
   "metadata": {},
   "outputs": [],
   "source": []
  },
  {
   "cell_type": "code",
   "execution_count": null,
   "metadata": {},
   "outputs": [],
   "source": []
  },
  {
   "cell_type": "code",
   "execution_count": 1,
   "metadata": {},
   "outputs": [],
   "source": [
    "customer_data_house = open(\"customer.txt\", \"r\")\n",
    "customer_data = customer_data_house.read()\n",
    "customer_data_house.close()"
   ]
  },
  {
   "cell_type": "code",
   "execution_count": 2,
   "metadata": {},
   "outputs": [
    {
     "name": "stdout",
     "output_type": "stream",
     "text": [
      "Account Number: 7183631441\n",
      "Account Name: Adebayo Azeez\n",
      "Account Balance: NGN 100,000\n",
      "Account Type: Savings\n",
      "Account Owner Email: debaycisse@gmail.com\n",
      "\n",
      "\n",
      "\n"
     ]
    }
   ],
   "source": [
    "print(customer_data)"
   ]
  },
  {
   "cell_type": "code",
   "execution_count": null,
   "metadata": {},
   "outputs": [],
   "source": []
  },
  {
   "cell_type": "code",
   "execution_count": 1,
   "metadata": {},
   "outputs": [],
   "source": [
    "import os\n",
    "import datetime\n",
    "import string\n",
    "import random"
   ]
  },
  {
   "cell_type": "code",
   "execution_count": 2,
   "metadata": {},
   "outputs": [
    {
     "name": "stdout",
     "output_type": "stream",
     "text": [
      "\n",
      "    Type in 1 or 2 to perform any of the below\n",
      "(1) Staff Login\n",
      "(2) Close App\n",
      "            1\n",
      "Type in your username: user2\n",
      "Type in your password: simple2\n",
      "\n",
      "        What do you want to do?\n",
      "        Type in:\n",
      "\n",
      "    (1) to Create a New Bank Account\n",
      "    (2) to Check Account Details\n",
      "    (3) to Logout\n",
      "                    2\n",
      "Please, type in the Account Number: 9719035527\n",
      "\n",
      "\n",
      "Account Number: 9719035527\n",
      "Account Name: Adebayo Azeez\n",
      "Account Balance: NGN 750,000.00\n",
      "Account Type: Savings\n",
      "Account Owner Email: debaycisse@gmail.com\n",
      "\n",
      "        What do you want to do?\n",
      "        Type in:\n",
      "\n",
      "    (1) to Create a New Bank Account\n",
      "    (2) to Check Account Details\n",
      "    (3) to Logout\n",
      "                    3\n",
      "\n",
      "    Type in 1 or 2 to perform any of the below\n",
      "(1) Staff Login\n",
      "(2) Close App\n",
      "            2\n"
     ]
    }
   ],
   "source": [
    "# *******When the app is executed******************************\n",
    "# Set a running state for it\n",
    "running_state = True\n",
    "\n",
    "\n",
    "while running_state:\n",
    "    \n",
    "    invalid_input = True\n",
    "    while invalid_input:\n",
    "        try:\n",
    "            user_command = int(input(\"\"\"\n",
    "    Type in 1 or 2 to perform any of the below\n",
    "(1) Staff Login\n",
    "(2) Close App\n",
    "            \"\"\"))\n",
    "        except ValueError:\n",
    "            print(\"Type in only 1 or 2\")\n",
    "            invalid_input = True   \n",
    "\n",
    "        # open the file for staff's credentials     \n",
    "        staff_credentials = open(\"staff.txt\", \"r\").readlines()\n",
    "        first_user = staff_credentials[0].split(\",\")[0]\n",
    "        first_user_password = staff_credentials[0].split(\",\")[1]\n",
    "        second_user = staff_credentials[1].split(\",\")[0]\n",
    "        second_user_password = staff_credentials[1].split(\",\")[1]\n",
    "\n",
    "\n",
    "        if user_command == 1:    # Staff Login\n",
    "            username = input(\"Type in your username: \")\n",
    "            password = input(\"Type in your password: \")\n",
    "\n",
    "\n",
    "            # keep prompting for the username and password, until user enters a correct credential\n",
    "            # check in side staff.txt for the staff login credential\n",
    "            while (username != first_user and password != first_user_password) \\\n",
    "            and (username != second_user and password != second_user_password):\n",
    "                print(\"Username or password is incorrect, try again\")\n",
    "                username = input(\"Type in your username: \")\n",
    "                password = input(\"Type in your password: \")\n",
    "\n",
    "\n",
    "            # once correct username and password are inserted or typed in.\n",
    "            # create user's session file\n",
    "            logged_in_time = datetime.datetime.now()\n",
    "            user_session = open(\"user_session_log.txt\", \"a\")\n",
    "            user_session.write( username +  \"\\nLogged in at \" + str(logged_in_time) + \"\\n\\n\\n\")\n",
    "            user_session.close()\n",
    "\n",
    "            # Set user's logged in status\n",
    "            logged_in_status = True\n",
    "            while logged_in_status:\n",
    "                # Ask user for which operation, he or she wishes to perform   \n",
    "                try:\n",
    "                    user_operation_code = int(input(\"\"\"\n",
    "        What do you want to do?\n",
    "        Type in:\\n\n",
    "    (1) to Create a New Bank Account\n",
    "    (2) to Check Account Details\n",
    "    (3) to Logout\n",
    "                    \"\"\"))\n",
    "                except ValueError:\n",
    "                    print(\"Only number 1 or 2 or 3 is allowed.\")\n",
    "                    logged_in_status = True\n",
    "\n",
    "                # check for the inserted code\n",
    "                if user_operation_code == 1:    # Create a bank account\n",
    "                    account_name = input(\"Account Name: \")\n",
    "                    opening_bal = input(\"Opening Balance: \")\n",
    "                    account_type = input(\"Account Type: \")\n",
    "                    account_email = input(\"Account Email: \")\n",
    "                    account_number = \"\"\n",
    "                    for allnum in random.choices(string.digits, k=10):\n",
    "                        account_number += \"\".join(allnum)\n",
    "\n",
    "                    # take all the above 5 data and save them inside \n",
    "                    # the customer.txt file or user data house\n",
    "                    with open(\"customer.txt\", \"a\") as customer_data:\n",
    "                        save_customer_data = customer_data.write(\"Account Number: \" + account_number + \"\\n\" +\\\n",
    "                                             \"Account Name: \" + account_name + \"\\n\" +\\\n",
    "                                             \"Account Balance: NGN \" + opening_bal + \"\\n\" +\\\n",
    "                                             \"Account Type: \" + account_type + \"\\n\" +\\\n",
    "                                             \"Account Owner Email: \" + account_email + \"\\n\\n\\n\" )\n",
    "\n",
    "                    # display the generated account number to the user\n",
    "                    print(\"\\n\\nAccount created successfully.\\nAccount Number for the just created user is: \" + account_number)\n",
    "                    \n",
    "                    logged_in_time = datetime.datetime.now()\n",
    "                    user_session = open(\"user_session_log.txt\", \"a\")\n",
    "                    user_session.write( username +  \"\\nCreated new account: (\" + account_number + \") at \" + str(logged_in_time) + \"\\n\\n\\n\")\n",
    "                    user_session.close()\n",
    "                    \n",
    "                    \n",
    "                    logged_in_status = True\n",
    "\n",
    "                elif user_operation_code == 2:  # Search for a bank account\n",
    "                    # collect and store the account number to be searched for\n",
    "                    account_number = input(\"Please, type in the Account Number: \")\n",
    "                    \n",
    "                    # connect to the customer data house to fetch data and close it.\n",
    "                    customer_data_house = open(\"customer.txt\", \"r\")\n",
    "                    customer_data = customer_data_house.read()\n",
    "                    customer_data_house.close()\n",
    "                    \n",
    "                    # check if the given account number exists in the data house\n",
    "                    # and if yes, fetch the user detail.\n",
    "                    if account_number in customer_data:\n",
    "                        with open(\"customer.txt\", \"r\") as customers_data_house:\n",
    "                            customers_data_house = customers_data_house.read()\n",
    "                            searched_account_index_start = customers_data_house.find(\"Account Number: \" + account_number)\n",
    "                            searched_account_index_end = customers_data_house.find(\"\\n\\n\", searched_account_index_start)\n",
    "                            searched_account_detail = customers_data_house[searched_account_index_start:searched_account_index_end]\n",
    "                            print(\"\\n\\n\" + searched_account_detail)\n",
    "                            \n",
    "                        logged_in_time = datetime.datetime.now()\n",
    "                        user_session = open(\"user_session_log.txt\", \"a\")\n",
    "                        user_session.write( username +  \"\\nSearched for user details of account  (\" + account_number + \") at \" + str(logged_in_time) + \"\\n\\n\\n\")\n",
    "                        user_session.close()\n",
    "                        \n",
    "                    else:\n",
    "                        print(\"The typed in account does not exist\\nPlease, enter a valid Account number\")\n",
    "                      \n",
    "                    logged_in_status = True\n",
    "\n",
    "                elif user_operation_code == 3:    # Logout\n",
    "                    user_session.close()\n",
    "                    os.remove(\"user_session_log.txt\")\n",
    "                    logged_in_status = False\n",
    "                    invalid_input = True\n",
    "                else:\n",
    "                    print(\"\"\"\n",
    "        Type in:\n",
    "    (1) to Create a New Bank Account\n",
    "    (2) to Check Account Details\n",
    "    (3) to Logout\n",
    "                    \"\"\")\n",
    "                    \n",
    "                    logged_in_status = True\n",
    "\n",
    "\n",
    "    \n",
    "\n",
    "        # Close this App\n",
    "        elif user_command == 2:\n",
    "            invalid_input = False\n",
    "            running_state = False\n",
    "            break\n",
    "\n",
    "        else:\n",
    "            print(\"Only number 1 or 2 is allowed, try again please...\")\n",
    "            invalid_input = True"
   ]
  },
  {
   "cell_type": "code",
   "execution_count": null,
   "metadata": {},
   "outputs": [],
   "source": []
  },
  {
   "cell_type": "code",
   "execution_count": null,
   "metadata": {},
   "outputs": [],
   "source": []
  },
  {
   "cell_type": "code",
   "execution_count": 3,
   "metadata": {},
   "outputs": [],
   "source": [
    "logged_in_time = datetime.datetime.now()"
   ]
  },
  {
   "cell_type": "code",
   "execution_count": 6,
   "metadata": {},
   "outputs": [
    {
     "name": "stdout",
     "output_type": "stream",
     "text": [
      "The time is: 2020-05-08 20:03:55.248510\n"
     ]
    }
   ],
   "source": [
    "print(\"The time is: \" + str(logged_in_time))"
   ]
  },
  {
   "cell_type": "code",
   "execution_count": null,
   "metadata": {},
   "outputs": [],
   "source": []
  },
  {
   "cell_type": "code",
   "execution_count": null,
   "metadata": {},
   "outputs": [],
   "source": []
  },
  {
   "cell_type": "code",
   "execution_count": 2,
   "metadata": {},
   "outputs": [
    {
     "name": "stdout",
     "output_type": "stream",
     "text": [
      "\n",
      "    Type in 1 or 2 to perform any of the below\n",
      "(1) Staff Login\n",
      "(2) Close App\n",
      "            1\n",
      "Type in your username: user2\n",
      "Type in your password: simple2\n",
      "\n",
      "        What do you want to do?\n",
      "        Type in:\n",
      "\n",
      "    (1) to Create a New Bank Account\n",
      "    (2) to Check Account Details\n",
      "    (3) to Logout\n",
      "                    1\n",
      "Account Name: Seyi Olayiwola\n",
      "Opening Balance: 40,000.00\n",
      "Account Type: Current\n",
      "Account Email: seyi.ola@hotmail.com\n",
      "\n",
      "\n",
      "Account created successfully.\n",
      "Account Number for the just created user is: 7748484050\n",
      "\n",
      "        What do you want to do?\n",
      "        Type in:\n",
      "\n",
      "    (1) to Create a New Bank Account\n",
      "    (2) to Check Account Details\n",
      "    (3) to Logout\n",
      "                    2\n",
      "Please, type in the Account Number: 7748484050\n",
      "\n",
      "\n",
      "Account Number: 7748484050\n",
      "Account Name: Seyi Olayiwola\n",
      "Account Balance: NGN 40,000.00\n",
      "Account Type: Current\n",
      "Account Owner Email: seyi.ola@hotmail.com\n",
      "\n",
      "        What do you want to do?\n",
      "        Type in:\n",
      "\n",
      "    (1) to Create a New Bank Account\n",
      "    (2) to Check Account Details\n",
      "    (3) to Logout\n",
      "                    3\n",
      "\n",
      "    Type in 1 or 2 to perform any of the below\n",
      "(1) Staff Login\n",
      "(2) Close App\n",
      "            2\n"
     ]
    }
   ],
   "source": [
    "import os\n",
    "import datetime\n",
    "import string\n",
    "import random\n",
    "\n",
    "# When the app is executed\n",
    "# Set a running state for it\n",
    "running_state = True\n",
    "\n",
    "while running_state:\n",
    "    \n",
    "    invalid_input = True\n",
    "    while invalid_input:\n",
    "        try:\n",
    "            user_command = int(input(\"\"\"\n",
    "    Type in 1 or 2 to perform any of the below\n",
    "(1) Staff Login\n",
    "(2) Close App\n",
    "            \"\"\"))\n",
    "        except ValueError:\n",
    "            print(\"Type in only 1 or 2\")\n",
    "            invalid_input = True   \n",
    "\n",
    "        # open the file for staff's credentials     \n",
    "        staff_credentials = open(\"staff.txt\", \"r\").readlines()\n",
    "        first_user = staff_credentials[0].split(\",\")[0]\n",
    "        first_user_password = staff_credentials[0].split(\",\")[1]\n",
    "        second_user = staff_credentials[1].split(\",\")[0]\n",
    "        second_user_password = staff_credentials[1].split(\",\")[1]\n",
    "\n",
    "\n",
    "        if user_command == 1:    # Staff Login\n",
    "            username = input(\"Type in your username: \")\n",
    "            password = input(\"Type in your password: \")\n",
    "\n",
    "\n",
    "            # keep prompting for the username and password, until user enters a correct credential\n",
    "            # check in side staff.txt for the staff login credential\n",
    "            while (username != first_user and password != first_user_password) \\\n",
    "            and (username != second_user and password != second_user_password):\n",
    "                print(\"Username or password is incorrect, try again\")\n",
    "                username = input(\"Type in your username: \")\n",
    "                password = input(\"Type in your password: \")\n",
    "\n",
    "\n",
    "            # once correct username and password are inserted or typed in.\n",
    "            # create user's session file\n",
    "            logged_in_time = datetime.datetime.now()\n",
    "            user_session = open(\"user_session_log.txt\", \"a\")\n",
    "            user_session.write( username +  \"\\nLogged in at \" + str(logged_in_time) + \"\\n\\n\\n\")\n",
    "            user_session.close()\n",
    "\n",
    "            # Set user's logged in status\n",
    "            logged_in_status = True\n",
    "            while logged_in_status:\n",
    "                # Ask user for which operation, he or she wishes to perform   \n",
    "                try:\n",
    "                    user_operation_code = int(input(\"\"\"\n",
    "        What do you want to do?\n",
    "        Type in:\\n\n",
    "    (1) to Create a New Bank Account\n",
    "    (2) to Check Account Details\n",
    "    (3) to Logout\n",
    "                    \"\"\"))\n",
    "                except ValueError:\n",
    "                    print(\"Only number 1 or 2 or 3 is allowed.\")\n",
    "                    logged_in_status = True\n",
    "\n",
    "                # check for the inserted code\n",
    "                if user_operation_code == 1:    # Create a bank account\n",
    "                    account_name = input(\"Account Name: \")\n",
    "                    opening_bal = input(\"Opening Balance: \")\n",
    "                    account_type = input(\"Account Type: \")\n",
    "                    account_email = input(\"Account Email: \")\n",
    "                    account_number = \"\"\n",
    "                    for allnum in random.choices(string.digits, k=10):\n",
    "                        account_number += \"\".join(allnum)\n",
    "\n",
    "                    # take all the above 5 data and save them inside \n",
    "                    # the customer.txt file or user data house\n",
    "                    with open(\"customer.txt\", \"a\") as customer_data:\n",
    "                        save_customer_data = customer_data.write(\"Account Number: \" + account_number + \"\\n\" +\\\n",
    "                                             \"Account Name: \" + account_name + \"\\n\" +\\\n",
    "                                             \"Account Balance: NGN \" + opening_bal + \"\\n\" +\\\n",
    "                                             \"Account Type: \" + account_type + \"\\n\" +\\\n",
    "                                             \"Account Owner Email: \" + account_email + \"\\n\\n\\n\" )\n",
    "\n",
    "                    # display the generated account number to the user\n",
    "                    print(\"\\n\\nAccount created successfully.\\nAccount Number for the just created user is: \" + account_number)\n",
    "                    \n",
    "                    logged_in_time = datetime.datetime.now()\n",
    "                    user_session = open(\"user_session_log.txt\", \"a\")\n",
    "                    user_session.write( username +  \"\\nCreated new account: (\" + account_number + \") at \" + str(logged_in_time) + \"\\n\\n\\n\")\n",
    "                    user_session.close()\n",
    "                    \n",
    "                    logged_in_status = True\n",
    "\n",
    "                elif user_operation_code == 2:  # Search for a bank account\n",
    "                    # collect and store the account number to be searched for\n",
    "                    account_number = input(\"Please, type in the Account Number: \")\n",
    "                    \n",
    "                    # connect to the customer data house to fetch data and close it.\n",
    "                    customer_data_house = open(\"customer.txt\", \"r\")\n",
    "                    customer_data = customer_data_house.read()\n",
    "                    customer_data_house.close()\n",
    "                    \n",
    "                    # check if the given account number exists in the data house\n",
    "                    # and if yes, fetch the user detail.\n",
    "                    if account_number in customer_data:\n",
    "                        with open(\"customer.txt\", \"r\") as customers_data_house:\n",
    "                            customers_data_house = customers_data_house.read()\n",
    "                            searched_account_index_start = customers_data_house.find(\"Account Number: \" + account_number)\n",
    "                            searched_account_index_end = customers_data_house.find(\"\\n\\n\", searched_account_index_start)\n",
    "                            searched_account_detail = customers_data_house[searched_account_index_start:searched_account_index_end]\n",
    "                            print(\"\\n\\n\" + searched_account_detail)\n",
    "                            \n",
    "                        logged_in_time = datetime.datetime.now()\n",
    "                        user_session = open(\"user_session_log.txt\", \"a\")\n",
    "                        user_session.write( username +  \"\\nSearched for user details of account  (\" + account_number + \") at \" + str(logged_in_time) + \"\\n\\n\\n\")\n",
    "                        user_session.close()\n",
    "                        \n",
    "                    else:\n",
    "                        print(\"The typed in account does not exist\\nPlease, enter a valid Account number\")\n",
    "                        logged_in_time = datetime.datetime.now()\n",
    "                        user_session = open(\"user_session_log.txt\", \"a\")\n",
    "                        user_session.write( username +  \"\\nTyped in invalid account number - \" + account_number + \" at \" + str(logged_in_time) + \"\\n\\n\\n\")\n",
    "                        user_session.close()\n",
    "                    \n",
    "                    logged_in_status = True\n",
    "\n",
    "                elif user_operation_code == 3:    # Logout\n",
    "                    user_session.close()\n",
    "                    os.remove(\"user_session_log.txt\")\n",
    "                    logged_in_status = False\n",
    "                    invalid_input = True\n",
    "                else:\n",
    "                    print(\"\"\"\n",
    "        Type in:\n",
    "    (1) to Create a New Bank Account\n",
    "    (2) to Check Account Details\n",
    "    (3) to Logout\n",
    "                    \"\"\")\n",
    "                    \n",
    "                    logged_in_status = True\n",
    "\n",
    "\n",
    "\n",
    "\n",
    "        # Close this App\n",
    "        elif user_command == 2:\n",
    "            invalid_input = False\n",
    "            running_state = False\n",
    "            break\n",
    "\n",
    "        else:\n",
    "            print(\"Only number 1 or 2 is allowed, try again please...\")\n",
    "            invalid_input = True\n"
   ]
  },
  {
   "cell_type": "code",
   "execution_count": null,
   "metadata": {},
   "outputs": [],
   "source": []
  },
  {
   "cell_type": "code",
   "execution_count": null,
   "metadata": {},
   "outputs": [],
   "source": []
  }
 ],
 "metadata": {
  "kernelspec": {
   "display_name": "Python 3",
   "language": "python",
   "name": "python3"
  },
  "language_info": {
   "codemirror_mode": {
    "name": "ipython",
    "version": 3
   },
   "file_extension": ".py",
   "mimetype": "text/x-python",
   "name": "python",
   "nbconvert_exporter": "python",
   "pygments_lexer": "ipython3",
   "version": "3.8.2"
  }
 },
 "nbformat": 4,
 "nbformat_minor": 4
}
