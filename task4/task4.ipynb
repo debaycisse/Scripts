{
 "cells": [
  {
   "cell_type": "code",
   "execution_count": null,
   "metadata": {},
   "outputs": [],
   "source": [
    "# REMINDER: THESE PROGRAM IS EXPECTED TO STORE CUSTOMER DATA INSIDE CUSTOMER.txt FILE, USING RUBY FILE SYSTEM"
   ]
  },
  {
   "cell_type": "code",
   "execution_count": null,
   "metadata": {},
   "outputs": [],
   "source": [
    "# ******************Before the app is executed*********************\n",
    "# STEP 1: # STEP 1: \n",
    "# create two txt files, namely\n",
    "# staff.txt   and   customer.txt\n",
    "\n",
    "# staff.txt should contain\n",
    "# Username; Password; Email; Full Name.\n",
    "\n",
    "# customer.txt should be empty.\n",
    "\n",
    "# STAFF.txt should contain only TWO users details. These are the details of the users who are allowed to login"
   ]
  },
  {
   "cell_type": "code",
   "execution_count": null,
   "metadata": {},
   "outputs": [],
   "source": [
    "import os\n",
    "import datetime\n",
    "import string\n",
    "import random"
   ]
  },
  {
   "cell_type": "code",
   "execution_count": null,
   "metadata": {},
   "outputs": [],
   "source": [
    "# REMINDER: THESE PROGRAM IS EXPECTED TO STORE CUSTOMER DATA INSIDE CUSTOMER.txt FILE, USING RUBY FILE SYSTEM\n"
   ]
  },
  {
   "cell_type": "code",
   "execution_count": null,
   "metadata": {},
   "outputs": [],
   "source": []
  },
  {
   "cell_type": "code",
   "execution_count": null,
   "metadata": {},
   "outputs": [],
   "source": [
    "# *******When the app is executed******************************\n",
    "running_state = True\n",
    "\n",
    "while running_state:\n",
    "    \n",
    "    isValid = True\n",
    "    while isValid_input:\n",
    "        try:\n",
    "            user_command = int(input(\"\"\"\n",
    "    Type in 1 or 2 to perform any of the below\n",
    "(1) Staff Login\n",
    "(2) Close App\n",
    "            \"\"\"))\n",
    "        except ValueError:\n",
    "            print(\"Type in only 1 or 2\")\n",
    "            isValid_input = True\n",
    "\n",
    "        isValid_input = False\n",
    "\n",
    "    # open the file for staff's credentials\n",
    "    file = open(\"staff.txt\", \"r\")\n",
    "\n",
    "\n",
    "\n",
    "    # Staff Login\n",
    "\n",
    "    if user_command == \"1\":\n",
    "        username = input(\"Type in your username: \")\n",
    "        password = input(\"Type in your password: \")\n",
    "\n",
    "\n",
    "        # keep prompting for the password, if it isn't correct\n",
    "        # check in side staff.txt for the staff login credential\n",
    "        while username != firstUser and password != firstPassword\n",
    "        or username != secondUser and password != secondPassword:\n",
    "            print(\"Your username or password is incorrect\")\n",
    "            username = input(\"Type in your username: \")\n",
    "            password = input(\"Type in your password: \")\n",
    "\n",
    "\n",
    "        # once correct username and password are inserted or typed in.\n",
    "        # create user's session file\n",
    "        logged_in_time = datetime.datetime.now()\n",
    "        user_session = open(\"user_session_log.txt\", \"a\")\n",
    "        user_session.write(\"Username: \" + username + \"\\n\" + \n",
    "                           \"logged in at \" + user_session + \"\\n\")\n",
    "\n",
    "        # Set user's logged in status\n",
    "        logged_in_status = True\n",
    "        while logged_in_status:\n",
    "            # Ask for user's operation   \n",
    "            try:\n",
    "                user_operation_code = int(input(\"\"\"\n",
    "    What do you want to do?\n",
    "    Type in:\\n\n",
    "(1) to Create a New Bank Account\n",
    "(2) to Check Account Details\n",
    "(3) to Logout\n",
    "                \"\"\"))\n",
    "            except ValueError:\n",
    "                print(\"Only number between 1 to 3, is allowed.\")\n",
    "\n",
    "            # check for the inserted code\n",
    "            if user_operation_code == 1:\n",
    "                account_name = input(\"Account Name: \")\n",
    "                opening_bal = input(\"Opening Balance: \")\n",
    "                account_type = input(\"Account Type: \")\n",
    "                account_email = input(\"Account Email: \")\n",
    "                account_number = \"\"\n",
    "                for allnum in random.choices(string.digits, k=10):\n",
    "                    account_number += \"\".join(allnum)\n",
    "\n",
    "                # take all the above 5 data and save them inside \n",
    "                # the customer.txt file   ??????????????????????\n",
    "                ...\n",
    "\n",
    "                # display the generated account number to the user\n",
    "                print(\"Account Number is: \" + account_number)\n",
    "                logged_in_status = True\n",
    "\n",
    "            elif user_operation_code == 2:\n",
    "            account_number = input(\"Enter an Account Number: \")\n",
    "            # fetch the details of the inserted account number\n",
    "            # from customer.txt file\n",
    "                if account_number exists in customer.txt:\n",
    "                    fetch the details\n",
    "                    print the details\n",
    "                else:\n",
    "                    print(\"The typed in account does not exist\")\n",
    "            logged_in_status = True\n",
    "\n",
    "            elif user_operation_code == 3:\n",
    "                user_session.close()\n",
    "                os.remove(\"user_session.txt\")\n",
    "                logged_in_status = False\n",
    "                running_state = True\n",
    "            else:\n",
    "                print(\"\"\"\n",
    "    Type in:\n",
    "(1) to Create a New Bank Account\n",
    "(2) to Check Account Details\n",
    "(3) to Logout\n",
    "                \"\"\")\n",
    "                logged_in_status = True\n",
    "\n",
    "\n",
    "\n",
    "\n",
    "    # Close this App\n",
    "    elif user_command == \"2\":\n",
    "        file.close()\n",
    "        break"
   ]
  },
  {
   "cell_type": "code",
   "execution_count": null,
   "metadata": {},
   "outputs": [],
   "source": []
  },
  {
   "cell_type": "code",
   "execution_count": null,
   "metadata": {},
   "outputs": [],
   "source": []
  },
  {
   "cell_type": "code",
   "execution_count": null,
   "metadata": {},
   "outputs": [],
   "source": [
    "\n"
   ]
  },
  {
   "cell_type": "code",
   "execution_count": null,
   "metadata": {},
   "outputs": [],
   "source": []
  },
  {
   "cell_type": "code",
   "execution_count": null,
   "metadata": {},
   "outputs": [],
   "source": []
  },
  {
   "cell_type": "code",
   "execution_count": null,
   "metadata": {},
   "outputs": [],
   "source": []
  }
 ],
 "metadata": {
  "kernelspec": {
   "display_name": "Python 3",
   "language": "python",
   "name": "python3"
  },
  "language_info": {
   "codemirror_mode": {
    "name": "ipython",
    "version": 3
   },
   "file_extension": ".py",
   "mimetype": "text/x-python",
   "name": "python",
   "nbconvert_exporter": "python",
   "pygments_lexer": "ipython3",
   "version": "3.7.6"
  }
 },
 "nbformat": 4,
 "nbformat_minor": 4
}
