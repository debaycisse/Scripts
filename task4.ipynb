{
 "cells": [
  {
   "cell_type": "code",
   "execution_count": null,
   "metadata": {},
   "outputs": [],
   "source": [
    "# REMINDER: THESE PROGRAM IS EXPECTED TO STORE CUSTOMER DATA INSIDE CUSTOMER.txt FILE, USING RUBY FILE SYSTEM"
   ]
  },
  {
   "cell_type": "code",
   "execution_count": null,
   "metadata": {},
   "outputs": [],
   "source": [
    "# ******************Before the app is executed*********************\n",
    "# STEP 1: # STEP 1: \n",
    "# create two txt files, namely\n",
    "# staff.txt   and   customer.txt\n",
    "\n",
    "# staff.txt should contain\n",
    "# Username; Password; Email; Full Name.\n",
    "\n",
    "# customer.txt should be empty.\n",
    "\n",
    "# STAFF.txt should contain only TWO users details. These are the details of the users who are allowed to login"
   ]
  },
  {
   "cell_type": "code",
   "execution_count": null,
   "metadata": {},
   "outputs": [],
   "source": [
    "import os\n",
    "import datetime"
   ]
  },
  {
   "cell_type": "code",
   "execution_count": null,
   "metadata": {},
   "outputs": [],
   "source": [
    "# REMINDER: THESE PROGRAM IS EXPECTED TO STORE CUSTOMER DATA INSIDE CUSTOMER.txt FILE, USING RUBY FILE SYSTEM\n"
   ]
  },
  {
   "cell_type": "code",
   "execution_count": null,
   "metadata": {},
   "outputs": [],
   "source": []
  },
  {
   "cell_type": "code",
   "execution_count": null,
   "metadata": {},
   "outputs": [],
   "source": [
    "# *******When the app is executed******************************\n"
   ]
  },
  {
   "cell_type": "code",
   "execution_count": 1,
   "metadata": {},
   "outputs": [
    {
     "name": "stdout",
     "output_type": "stream",
     "text": [
      "\n",
      "(1) Staff Login\n",
      "(2) Close App\n",
      "1\n"
     ]
    }
   ],
   "source": [
    "user_command = input(\"\"\"\n",
    "(1) Staff Login\n",
    "(2) Close App\n",
    "\"\"\")"
   ]
  },
  {
   "cell_type": "code",
   "execution_count": null,
   "metadata": {},
   "outputs": [],
   "source": []
  },
  {
   "cell_type": "code",
   "execution_count": null,
   "metadata": {},
   "outputs": [],
   "source": [
    "# open the file for staff's credentials\n",
    "file = open(\"staff.txt\", \"r\")\n",
    "\n",
    "\n",
    "\n",
    "# Staff Login\n",
    "\n",
    "While user_command == \"1\":\n",
    "    username = input(\"Type in your username: \")\n",
    "    password = input(\"Type in your password: \")\n",
    "    \n",
    "    # keep prompting for the password, if it isn't correct\n",
    "    # check in side staff.txt for the staff login credential\n",
    "    while username != firstUser and password != firstPassword\n",
    "    or username != secondUser and password != secondPassword:\n",
    "        print(\"Your username or password is incorrect\")\n",
    "        username = input(\"Type in your username: \")\n",
    "        password = input(\"Type in your password: \")\n",
    "        \n",
    "    # once correct username and password are inserted or typed in.\n",
    "    # create user's session file\n",
    "    logged_in_time = datetime.datetime.now()\n",
    "    user_session = open(\"user_session.txt\", \"w\")\n",
    "    user_session.write(\"Username: \" + username + \"\\n\" + \n",
    "                       \"logged in at \" + )\n",
    "    \n",
    "        \n",
    "        \n",
    "\n",
    "    \n",
    "# Close App\n",
    "elif user_command == \"2\":\n",
    "    user_session.close()\n",
    "    os.remove(\"user_session.txt\")\n",
    "    file.close()\n",
    "    break"
   ]
  },
  {
   "cell_type": "code",
   "execution_count": null,
   "metadata": {},
   "outputs": [],
   "source": []
  },
  {
   "cell_type": "code",
   "execution_count": null,
   "metadata": {},
   "outputs": [],
   "source": []
  },
  {
   "cell_type": "code",
   "execution_count": 4,
   "metadata": {},
   "outputs": [],
   "source": [
    "import datetime"
   ]
  },
  {
   "cell_type": "code",
   "execution_count": 6,
   "metadata": {},
   "outputs": [
    {
     "name": "stdout",
     "output_type": "stream",
     "text": [
      "2020-05-06 14:51:03.078296\n"
     ]
    }
   ],
   "source": [
    "x = datetime.datetime.now()\n",
    "print(x)"
   ]
  },
  {
   "cell_type": "code",
   "execution_count": null,
   "metadata": {},
   "outputs": [],
   "source": []
  },
  {
   "cell_type": "code",
   "execution_count": null,
   "metadata": {},
   "outputs": [],
   "source": []
  },
  {
   "cell_type": "code",
   "execution_count": null,
   "metadata": {},
   "outputs": [],
   "source": []
  },
  {
   "cell_type": "code",
   "execution_count": null,
   "metadata": {},
   "outputs": [],
   "source": []
  },
  {
   "cell_type": "code",
   "execution_count": null,
   "metadata": {},
   "outputs": [],
   "source": []
  }
 ],
 "metadata": {
  "kernelspec": {
   "display_name": "Python 3",
   "language": "python",
   "name": "python3"
  },
  "language_info": {
   "codemirror_mode": {
    "name": "ipython",
    "version": 3
   },
   "file_extension": ".py",
   "mimetype": "text/x-python",
   "name": "python",
   "nbconvert_exporter": "python",
   "pygments_lexer": "ipython3",
   "version": "3.8.2"
  }
 },
 "nbformat": 4,
 "nbformat_minor": 4
}
